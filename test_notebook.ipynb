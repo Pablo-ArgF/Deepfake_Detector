{
 "cells": [
  {
   "cell_type": "markdown",
   "metadata": {},
   "source": [
    "# Whole module"
   ]
  },
  {
   "cell_type": "code",
   "execution_count": null,
   "metadata": {},
   "outputs": [],
   "source": [
    "from sklearn.utils import shuffle\n",
    "import os\n",
    "import numpy as np\n",
    "import pandas as pd\n",
    "from sklearn.metrics import confusion_matrix, classification_report\n",
    "from sklearn.model_selection import train_test_split\n",
    "from sklearn.preprocessing import StandardScaler\n",
    "from tensorflow.keras import Input\n",
    "from tensorflow.keras.layers import Dense, MaxPooling2D, Conv2D,MaxPooling3D, Conv3D, Flatten,Lambda, Dropout\n",
    "from tensorflow.keras.models import Sequential\n",
    "from keras.models import load_model\n",
    "from faceRecon import FaceExtractorMultithread, FaceExtractor\n",
    "\n",
    "route = '/home/pabloarga/Data'\n",
    "\n",
    "print('Loading dataframes...')\n",
    "fragments = []\n",
    "for i in range(5):\n",
    "    # Assuming each dataframe is stored as a separate table in the HDF5 file\n",
    "    if i%10==0:\n",
    "        print(f'{i} dataframes loaded')\n",
    "    chunk = pd.read_hdf(f'{route}/dataframe{i}_FaceForensics.h5', key=f'df{i}')\n",
    "    fragments.append(chunk)\n",
    "#fragments = [pd.read_hdf(f'dataframes/CelebDB/dataframe{i}_600videos.h5', key=f'df{i}') for i in range(2)]#6\n",
    "df = pd.concat(fragments)\n",
    "\n",
    "print(df.describe())\n",
    "print(df.dtypes)\n",
    "print(df['label'].value_counts())\n",
    "\n",
    "X = df.drop(['label'], axis = 1)\n",
    "y = df['label']\n",
    "\n",
    "print('Dividing dataset into train and test...')\n",
    "X_train, X_test, y_train, y_test = train_test_split(X,y, test_size=0.2, random_state=42, stratify = y)\n",
    "X_train = np.stack(X_train['face'], axis=0)\n",
    "X_test = np.stack(X_test['face'], axis=0)\n"
   ]
  },
  {
   "cell_type": "code",
   "execution_count": null,
   "metadata": {},
   "outputs": [],
   "source": [
    "print('Creating model...')\n",
    "model = Sequential()\n",
    "model.add(Input(shape=(200, 200, 3)))\n",
    "model.add(Lambda(lambda x: x/255.0)) #normalizamos los valores de los pixeles\n",
    "model.add(Conv2D(32, (3, 3), activation='relu'))\n",
    "model.add(MaxPooling2D((2, 2)))\n",
    "model.add(Conv2D(64, (3, 3), activation='relu'))\n",
    "model.add(MaxPooling2D((2, 2)))\n",
    "model.add(Conv2D(128, (3, 3), activation='relu'))\n",
    "model.add(MaxPooling2D((2, 2)))\n",
    "model.add(Conv2D(128, (3, 3), activation='relu'))\n",
    "model.add(MaxPooling2D((2, 2)))\n",
    "model.add(Flatten())\n",
    "model.add(Dropout(0.5))  # Dropout for regularization\n",
    "model.add(Dense(1024, activation='relu'))\n",
    "model.add(Dropout(0.5))  # Dropout for regularization\n",
    "model.add(Dense(1024, activation='relu'))\n",
    "model.add(Dense(1, activation='softmax'))\n",
    "\n",
    "model.compile(optimizer='adam',\n",
    "              loss='binary_crossentropy',\n",
    "              metrics=['accuracy'])\n"
   ]
  },
  {
   "cell_type": "code",
   "execution_count": null,
   "metadata": {},
   "outputs": [],
   "source": [
    "from MetricsModule import TrainingMetrics\n",
    "#prueba de que imprime las stats\n",
    "metrics = TrainingMetrics(model,\"/home/pabloarga/Results\")\n",
    "metrics.train(X_train, y_train, X_test, y_test, epochs=10)"
   ]
  },
  {
   "cell_type": "markdown",
   "metadata": {},
   "source": [
    "# Test de bach training"
   ]
  },
  {
   "cell_type": "code",
   "execution_count": 3,
   "metadata": {},
   "outputs": [
    {
     "name": "stdout",
     "output_type": "stream",
     "text": [
      "WARNING:tensorflow:From c:\\Users\\pablo\\AppData\\Local\\Programs\\Python\\Python311\\Lib\\site-packages\\keras\\src\\backend.py:873: The name tf.get_default_graph is deprecated. Please use tf.compat.v1.get_default_graph instead.\n",
      "\n",
      "WARNING:tensorflow:From c:\\Users\\pablo\\AppData\\Local\\Programs\\Python\\Python311\\Lib\\site-packages\\keras\\src\\layers\\pooling\\max_pooling2d.py:161: The name tf.nn.max_pool is deprecated. Please use tf.nn.max_pool2d instead.\n",
      "\n",
      "WARNING:tensorflow:From c:\\Users\\pablo\\AppData\\Local\\Programs\\Python\\Python311\\Lib\\site-packages\\keras\\src\\optimizers\\__init__.py:309: The name tf.train.Optimizer is deprecated. Please use tf.compat.v1.train.Optimizer instead.\n",
      "\n"
     ]
    }
   ],
   "source": [
    "import os\n",
    "from tensorflow.keras.layers import Dense, MaxPooling2D, Conv2D, Flatten,Lambda,  Input,Dropout\n",
    "from tensorflow.keras.models import Sequential\n",
    "from MetricsModule import TrainingMetrics\n",
    "\n",
    "route =  'P:\\TFG\\Datasets\\dataframes_small' #'/home/pabloarga/Data' \n",
    "resultsPath = 'P:\\TFG\\Datasets\\dataframes_small\\\\results' #'/home/pabloarga/Results'\n",
    "\n",
    "model = Sequential()\n",
    "model.add(Input(shape=(200, 200, 3)))\n",
    "model.add(Lambda(lambda x: x/255.0)) #normalizamos los valores de los pixeles -> mejora la eficiencia\n",
    "model.add(Conv2D(32, (3, 3), activation='relu'))\n",
    "model.add(MaxPooling2D((2, 2)))\n",
    "model.add(Conv2D(64, (3, 3), activation='relu'))\n",
    "model.add(MaxPooling2D((2, 2)))\n",
    "model.add(Conv2D(128, (3, 3), activation='relu'))\n",
    "model.add(MaxPooling2D((2, 2)))\n",
    "model.add(Conv2D(128, (3, 3), activation='relu'))\n",
    "model.add(MaxPooling2D((2, 2)))\n",
    "model.add(Flatten())\n",
    "model.add(Dropout(0.2))  # Dropout for regularization\n",
    "model.add(Dense(512, activation='relu'))\n",
    "model.add(Dropout(0.3))  # Dropout for regularization\n",
    "model.add(Dense(1024, activation='relu'))\n",
    "model.add(Dense(1, activation='softmax'))\n",
    "\n",
    "model.compile(optimizer='adam',\n",
    "              loss='binary_crossentropy',\n",
    "              metrics=['accuracy'])\n"
   ]
  },
  {
   "cell_type": "code",
   "execution_count": null,
   "metadata": {},
   "outputs": [],
   "source": [
    "from MetricsModule import TrainingMetrics\n",
    "metrics = TrainingMetrics(model, resultsPath)\n",
    "metrics.batches_train(route,2,1)\n",
    "\n",
    "\n",
    "#exportamos el modelo\n",
    "model.save(os.path.join(resultsPath,'model.h5'))"
   ]
  },
  {
   "cell_type": "markdown",
   "metadata": {},
   "source": [
    "# Importamos el modelo y probamos con un ejemplo"
   ]
  },
  {
   "cell_type": "code",
   "execution_count": 10,
   "metadata": {},
   "outputs": [
    {
     "name": "stdout",
     "output_type": "stream",
     "text": [
      "Processing video 1/1 ----> 100%\n",
      "0      [[[18, 15, 16], [20, 17, 18], [24, 21, 22], [2...\n",
      "1      [[[25, 22, 21], [25, 22, 23], [24, 21, 22], [2...\n",
      "2      [[[85, 82, 83], [86, 83, 84], [89, 86, 86], [9...\n",
      "3      [[[112, 109, 108], [112, 110, 109], [113, 111,...\n",
      "4      [[[29, 26, 27], [29, 26, 27], [31, 31, 31], [3...\n",
      "                             ...                        \n",
      "438    [[[26, 32, 36], [26, 32, 36], [23, 30, 36], [2...\n",
      "439    [[[59, 57, 54], [58, 56, 52], [59, 57, 53], [6...\n",
      "440    [[[30, 33, 33], [31, 33, 35], [33, 36, 37], [3...\n",
      "441    [[[46, 41, 40], [46, 41, 40], [46, 41, 40], [4...\n",
      "442    [[[24, 26, 33], [24, 26, 33], [24, 26, 36], [2...\n",
      "Name: face, Length: 443, dtype: object\n",
      "14/14 [==============================] - 2s 105ms/step\n",
      "[[  0 443]\n",
      " [  0   0]]\n"
     ]
    }
   ],
   "source": [
    "from keras.models import load_model\n",
    "from sklearn.metrics import confusion_matrix\n",
    "from FaceReconModule import FaceExtractorMultithread\n",
    "import pandas as pd\n",
    "import numpy as np\n",
    "import os\n",
    "modelPath = os.path.join(resultsPath,'model.keras')\n",
    "\n",
    "#cargamos un video y lo procesamos frame por frame\n",
    "videoPath = 'P:\\TFG\\Datasets\\FaceForensics\\manipulated_sequences-fake\\DeepFakeDetection\\c23\\\\videos\\\\01_15__outside_talking_pan_laughing__02HILKYO.mp4'\n",
    "#creamos un dataframe con el path al video y con la label 0 de fake\n",
    "df = pd.DataFrame({'video': [videoPath], 'label': [0]})\n",
    "faceExtractor = FaceExtractorMultithread(400) #cada 2 frames\n",
    "imagesDataset = faceExtractor.transform(df)\n",
    "\n",
    "print(imagesDataset['face'])\n",
    "\n",
    "#Cargamos el modelo\n",
    "model = load_model(modelPath,safe_mode=False)\n",
    "#probamos el modelo manualmente\n",
    "y_pred = model.predict(np.stack(imagesDataset['face'], axis=0))\n",
    "#matriz de confusión\n",
    "y_real = imagesDataset['label']\n",
    "print(confusion_matrix(y_real, y_pred))\n"
   ]
  }
 ],
 "metadata": {
  "kernelspec": {
   "display_name": "Python 3",
   "language": "python",
   "name": "python3"
  },
  "language_info": {
   "codemirror_mode": {
    "name": "ipython",
    "version": 3
   },
   "file_extension": ".py",
   "mimetype": "text/x-python",
   "name": "python",
   "nbconvert_exporter": "python",
   "pygments_lexer": "ipython3",
   "version": "3.11.0"
  }
 },
 "nbformat": 4,
 "nbformat_minor": 4
}
